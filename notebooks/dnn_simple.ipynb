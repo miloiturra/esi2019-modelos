{
 "cells": [
  {
   "cell_type": "code",
   "execution_count": 74,
   "metadata": {
    "ExecuteTime": {
     "end_time": "2021-06-24T21:53:25.116647Z",
     "start_time": "2021-06-24T21:53:25.089538Z"
    }
   },
   "outputs": [],
   "source": [
    "import numpy as np\n",
    "\n",
    "from sklearn.preprocessing import LabelEncoder\n",
    "from category_encoders.ordinal import OrdinalEncoder\n",
    "from sklearn.preprocessing import StandardScaler\n",
    "\n",
    "from sklearn.pipeline import Pipeline\n",
    "from sklearn.compose import ColumnTransformer\n",
    "from sklearn.impute import SimpleImputer\n",
    "\n",
    "import pandas as pd\n",
    "import pytorch_lightning as pl\n",
    "\n",
    "import torch\n",
    "from torch import nn\n",
    "from torch import functional as F\n",
    "\n",
    "#import distvis"
   ]
  },
  {
   "cell_type": "code",
   "execution_count": 81,
   "metadata": {},
   "outputs": [
    {
     "data": {
      "text/plain": [
       "device(type='cuda')"
      ]
     },
     "execution_count": 81,
     "metadata": {},
     "output_type": "execute_result"
    }
   ],
   "source": [
    "device = torch.device(\"cuda\" if torch.cuda.is_available() else \"cpu\")\n",
    "device"
   ]
  },
  {
   "cell_type": "code",
   "execution_count": 3,
   "metadata": {
    "ExecuteTime": {
     "end_time": "2021-06-24T21:46:38.205561Z",
     "start_time": "2021-06-24T21:46:33.349Z"
    }
   },
   "outputs": [],
   "source": [
    "datos = pd.read_csv('../datos/datos_procesados.csv').iloc[:, 1:]"
   ]
  },
  {
   "cell_type": "code",
   "execution_count": 4,
   "metadata": {},
   "outputs": [],
   "source": [
    "numerical_features = [\n",
    "    'edad', 'meses_empleo'\n",
    "]\n",
    "\n",
    "categorical_features = [\n",
    "    'sexo', 'rol_hogar', 'tipo_zona', \n",
    "    'termino_nivel', 'cine', 'est_conyugal', 'region', 'comuna', 'provincia',\n",
    "    'est_subcontratado', 'categoria_empleo', 'grupo_ocupacion', 'nacionalidad'\n",
    "]\n",
    "\n",
    "features = categorical_features + numerical_features\n",
    "target = \"sueldo_neto\""
   ]
  },
  {
   "cell_type": "code",
   "execution_count": 5,
   "metadata": {},
   "outputs": [
    {
     "data": {
      "text/plain": [
       "ColumnTransformer(transformers=[('cat',\n",
       "                                 Pipeline(steps=[('imputer',\n",
       "                                                  SimpleImputer(fill_value=-1,\n",
       "                                                                missing_values=None,\n",
       "                                                                strategy='constant')),\n",
       "                                                 ('label',\n",
       "                                                  OrdinalEncoder(handle_unknown='return_nan'))]),\n",
       "                                 ['sexo', 'rol_hogar', 'tipo_zona',\n",
       "                                  'termino_nivel', 'cine', 'est_conyugal',\n",
       "                                  'region', 'comuna', 'provincia',\n",
       "                                  'est_subcontratado', 'categoria_empleo',\n",
       "                                  'grupo_ocupacion', 'nacionalidad']),\n",
       "                                ('num',\n",
       "                                 Pipeline(steps=[('imputer',\n",
       "                                                  SimpleImputer(fill_value=nan,\n",
       "                                                                strategy='constant')),\n",
       "                                                 ('scaler', StandardScaler())]),\n",
       "                                 ['edad', 'meses_empleo'])])"
      ]
     },
     "execution_count": 5,
     "metadata": {},
     "output_type": "execute_result"
    }
   ],
   "source": [
    "numeric_transformer = Pipeline(steps=[\n",
    "    ('imputer', SimpleImputer(strategy='constant', fill_value=np.NaN)), #dummy imputer\n",
    "    ('scaler', StandardScaler())\n",
    "    ])\n",
    "\n",
    "categorical_transformer = Pipeline(steps=[\n",
    "    ('imputer', SimpleImputer(missing_values=None, strategy='constant', fill_value=-1)),\n",
    "    ('label', OrdinalEncoder(handle_unknown=\"return_nan\")) #uknown values goes to -1\n",
    "    ])\n",
    "\n",
    "preprocessor = ColumnTransformer(               #preprocessor rearenge columns\n",
    "    transformers=[\n",
    "        ('cat', categorical_transformer, categorical_features),\n",
    "        ('num', numeric_transformer, numerical_features)]\n",
    ")\n",
    "\n",
    "#target_scaler = StandardScaler()\n",
    "\n",
    "preprocessor.fit(datos[features])\n",
    "#target_scaler.fit(datos[target])"
   ]
  },
  {
   "cell_type": "code",
   "execution_count": 84,
   "metadata": {},
   "outputs": [],
   "source": [
    "transform_features = preprocessor.transform(datos[features])\n",
    "\n",
    "cat_indices = [features.index(x) for x in categorical_features]\n",
    "num_indices = [features.index(x) for x in numerical_features]\n",
    "\n",
    "x_cat = torch.LongTensor(transform_features[:, cat_indices]).to(device)\n",
    "x_num = torch.FloatTensor(transform_features[:, num_indices]).to(device)"
   ]
  },
  {
   "cell_type": "code",
   "execution_count": 34,
   "metadata": {},
   "outputs": [
    {
     "data": {
      "text/plain": [
       "{'sexo': 2,\n",
       " 'rol_hogar': 11,\n",
       " 'tipo_zona': 3,\n",
       " 'termino_nivel': 2,\n",
       " 'cine': 10,\n",
       " 'est_conyugal': 7,\n",
       " 'region': 16,\n",
       " 'comuna': 278,\n",
       " 'provincia': 52,\n",
       " 'est_subcontratado': 3,\n",
       " 'categoria_empleo': 4,\n",
       " 'grupo_ocupacion': 10,\n",
       " 'nacionalidad': 9}"
      ]
     },
     "execution_count": 34,
     "metadata": {},
     "output_type": "execute_result"
    }
   ],
   "source": [
    "emb_szs = {feature: 5 for feature in categorical_features}\n",
    "n_categories = {f: transform_features[:, features.index(f)].max().astype(int) for f in categorical_features}\n",
    "n_categories"
   ]
  },
  {
   "cell_type": "markdown",
   "metadata": {},
   "source": [
    "https://github.com/fastai/fastai/blob/eda1a2e50980b1ec2df127ae431b8bdbf1a84877/fastai/tabular/model.py#L28"
   ]
  },
  {
   "cell_type": "code",
   "execution_count": 85,
   "metadata": {},
   "outputs": [],
   "source": [
    "class LinearAct(nn.Sequential):\n",
    "    def __init__(self, n_in, n_out, act=None):\n",
    "        layers = [nn.Linear(n_in, n_out)]\n",
    "        if act is not None: layers.append(act)\n",
    "        super().__init__(*layers)\n",
    "        \n",
    "class TabularModel(pl.LightningModule):\n",
    "    \n",
    "    def __init__(self, emb_szs: dict, n_num: int, layers: list):\n",
    "        super(TabularModel, self).__init__()\n",
    "        self.embeddings = {f: nn.Embedding(n_categories[f]+1, emb_szs[f]) for f in categorical_features}\n",
    "        n_emb = sum(emb_sz for emb_sz in emb_szs.values())\n",
    "        layer_sizes = [n_emb + n_num] + layers + [1]\n",
    "        actns = [nn.ReLU(inplace=True) for _ in range(len(layer_sizes)-2)] + [None]\n",
    "        _layers = [LinearAct(layer_sizes[i], layer_sizes[i+1], act=act)\n",
    "                       for i, act in enumerate(actns)]\n",
    "        self.layers = nn.Sequential(*_layers)\n",
    "        self.loss = torch.nn.MSELoss\n",
    "        \n",
    "    def forward(self, x_cat, x_num):\n",
    "        x = [emb(x_cat[:, categorical_features.index(f)]) for f, emb in self.embeddings.items()] \n",
    "        x = torch.cat(x, 1)\n",
    "        x = torch.cat([x, x_num], dim=1)\n",
    "        return self.layers(x)\n",
    "    \n",
    "    def training_step(self, batch, batch_idx):\n",
    "        x, y = batch\n",
    "        y_hat = self.forward(x)\n",
    "        loss = self.loss(y_hat, y)\n",
    "        self.log('train_loss', loss)\n",
    "        return loss\n",
    "    "
   ]
  },
  {
   "cell_type": "code",
   "execution_count": 86,
   "metadata": {},
   "outputs": [],
   "source": [
    "model = TabularModel(emb_szs=emb_szs, n_num=len(numerical_features), layers=[10, 5])"
   ]
  },
  {
   "cell_type": "code",
   "execution_count": 89,
   "metadata": {},
   "outputs": [
    {
     "name": "stderr",
     "output_type": "stream",
     "text": [
      "GPU available: True, used: True\n",
      "TPU available: None, using: 0 TPU cores\n"
     ]
    }
   ],
   "source": [
    "trainer = pl.Trainer(\n",
    "    min_epochs=10, \n",
    "    max_epochs=200, \n",
    "    gpus=1, \n",
    "    deterministic=True\n",
    ")"
   ]
  },
  {
   "cell_type": "code",
   "execution_count": null,
   "metadata": {},
   "outputs": [],
   "source": []
  }
 ],
 "metadata": {
  "kernelspec": {
   "display_name": "Python 3",
   "language": "python",
   "name": "python3"
  },
  "language_info": {
   "codemirror_mode": {
    "name": "ipython",
    "version": 3
   },
   "file_extension": ".py",
   "mimetype": "text/x-python",
   "name": "python",
   "nbconvert_exporter": "python",
   "pygments_lexer": "ipython3",
   "version": "3.7.9"
  },
  "toc": {
   "base_numbering": 1,
   "nav_menu": {},
   "number_sections": true,
   "sideBar": true,
   "skip_h1_title": false,
   "title_cell": "Table of Contents",
   "title_sidebar": "Contents",
   "toc_cell": false,
   "toc_position": {},
   "toc_section_display": true,
   "toc_window_display": false
  }
 },
 "nbformat": 4,
 "nbformat_minor": 4
}
