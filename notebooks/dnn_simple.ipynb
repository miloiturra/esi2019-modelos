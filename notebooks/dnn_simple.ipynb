{
 "cells": [
  {
   "cell_type": "code",
   "execution_count": 48,
   "metadata": {},
   "outputs": [],
   "source": [
    "import numpy as np\n",
    "\n",
    "from sklearn.preprocessing import LabelEncoder\n",
    "from category_encoders.ordinal import OrdinalEncoder\n",
    "from sklearn.preprocessing import StandardScaler\n",
    "\n",
    "from sklearn.pipeline import Pipeline\n",
    "from sklearn.compose import ColumnTransformer\n",
    "from sklearn.impute import SimpleImputer\n",
    "\n",
    "import pandas as pd\n",
    "import pytorch_lightning as pl\n",
    "\n",
    "import torch\n",
    "from torch import nn\n",
    "\n",
    "import distvis"
   ]
  },
  {
   "cell_type": "code",
   "execution_count": 5,
   "metadata": {},
   "outputs": [],
   "source": [
    "datos = pd.read_csv('../datos/datos_procesados.csv').iloc[:, 1:]"
   ]
  },
  {
   "cell_type": "code",
   "execution_count": 58,
   "metadata": {},
   "outputs": [],
   "source": [
    "numerical_features = [\n",
    "    'edad', 'meses_empleo'\n",
    "]\n",
    "\n",
    "categorical_features = [\n",
    "    'sexo', 'rol_hogar', 'tipo_zona', \n",
    "    'termino_nivel', 'cine', 'est_conyugal', 'region', 'comuna', 'provincia',\n",
    "    'est_subcontratado', 'categoria_empleo', 'grupo_ocupacion', 'nacionalidad'\n",
    "]\n",
    "\n",
    "features = categorical_features + numerical_features\n",
    "target = \"sueldo_neto\""
   ]
  },
  {
   "cell_type": "code",
   "execution_count": 59,
   "metadata": {},
   "outputs": [
    {
     "data": {
      "text/plain": [
       "ColumnTransformer(transformers=[('cat',\n",
       "                                 Pipeline(steps=[('imputer',\n",
       "                                                  SimpleImputer(fill_value=-1,\n",
       "                                                                missing_values=None,\n",
       "                                                                strategy='constant')),\n",
       "                                                 ('label',\n",
       "                                                  OrdinalEncoder(handle_unknown='return_nan'))]),\n",
       "                                 ['sexo', 'rol_hogar', 'tipo_zona',\n",
       "                                  'termino_nivel', 'cine', 'est_conyugal',\n",
       "                                  'region', 'comuna', 'provincia',\n",
       "                                  'est_subcontratado', 'categoria_empleo',\n",
       "                                  'grupo_ocupacion', 'nacionalidad']),\n",
       "                                ('num',\n",
       "                                 Pipeline(steps=[('imputer',\n",
       "                                                  SimpleImputer(fill_value=nan,\n",
       "                                                                strategy='constant')),\n",
       "                                                 ('scaler', StandardScaler())]),\n",
       "                                 ['edad', 'meses_empleo'])])"
      ]
     },
     "execution_count": 59,
     "metadata": {},
     "output_type": "execute_result"
    }
   ],
   "source": [
    "numeric_transformer = Pipeline(steps=[\n",
    "    ('imputer', SimpleImputer(strategy='constant', fill_value=np.NaN)), #dummy imputer\n",
    "    ('scaler', StandardScaler())\n",
    "    ])\n",
    "\n",
    "categorical_transformer = Pipeline(steps=[\n",
    "    ('imputer', SimpleImputer(missing_values=None, strategy='constant', fill_value=-1)),\n",
    "    ('label', OrdinalEncoder(handle_unknown=\"return_nan\")) #uknown values goes to -1\n",
    "    ])\n",
    "\n",
    "preprocessor = ColumnTransformer(               #preprocessor rearenge columns\n",
    "    transformers=[\n",
    "        ('cat', categorical_transformer, categorical_features),\n",
    "        ('num', numeric_transformer, numerical_features)]\n",
    ")\n",
    "\n",
    "#target_scaler = StandardScaler()\n",
    "\n",
    "preprocessor.fit(datos[features])\n",
    "#target_scaler.fit(datos[target])"
   ]
  },
  {
   "cell_type": "code",
   "execution_count": 66,
   "metadata": {},
   "outputs": [],
   "source": [
    "transform_features = preprocessor.transform(datos[features])\n",
    "\n",
    "cat_indices = [features.index(x) for x in categorical_features]\n",
    "num_indices = [features.index(x) for x in numerical_features]\n",
    "\n",
    "x_cat = torch.IntTensor(transform_features[:, cat_indices])\n",
    "x_num = torch.FloatTensor(transform_features[:, num_indices])\n"
   ]
  },
  {
   "cell_type": "code",
   "execution_count": 86,
   "metadata": {},
   "outputs": [
    {
     "data": {
      "text/plain": [
       "{'sexo': 2,\n",
       " 'rol_hogar': 11,\n",
       " 'tipo_zona': 3,\n",
       " 'termino_nivel': 2,\n",
       " 'cine': 10,\n",
       " 'est_conyugal': 7,\n",
       " 'region': 16,\n",
       " 'comuna': 278,\n",
       " 'provincia': 52,\n",
       " 'est_subcontratado': 3,\n",
       " 'categoria_empleo': 4,\n",
       " 'grupo_ocupacion': 10,\n",
       " 'nacionalidad': 9}"
      ]
     },
     "execution_count": 86,
     "metadata": {},
     "output_type": "execute_result"
    }
   ],
   "source": [
    "emb_szs = {feature: 5 for feature in categorical_features}\n",
    "n_categories = {f: transform_features[:, features.index(f)].max().astype(int) for f in categorical_features}\n",
    "n_categories"
   ]
  },
  {
   "cell_type": "code",
   "execution_count": 88,
   "metadata": {},
   "outputs": [],
   "source": [
    "class TabularModel(pl.LightningModule):\n",
    "    \n",
    "    def __init__(self, emb_szs, n_num, layers):\n",
    "        self.embeddings = {f: nn.Embedding(n_categories[f], emb_szs[f]) for f in categorical_features}\n",
    "        n_emb = sum(emb_sz for emb_sz in emb_szs.values)\n",
    "        sizes = [n_emb + n_num] + layers + [1]\n",
    "        actns = [nn.ReLU(inplace=True) for _ in range(len(sizes)-2)] + [None]\n",
    "        _layers = [LinBnDrop(sizes[i], sizes[i+1], bn=use_bn and (i!=len(actns)-1 or bn_final), p=p, act=a, lin_first=lin_first)\n",
    "                       for i,(p,a) in enumerate(zip(ps+[0.],actns))]\n",
    "        \n",
    "    def forward(self, x_cat, x_num):\n",
    "        x = [emb(x_cat[:, categorical_features.index(f)]) for f, emb in self.embeddings.items()]\n",
    "        x = torch.cat(x, 1)\n",
    "        x_num = self.\n",
    "        \n",
    "        if self.n_emb != 0:\n",
    "            x = [e(x_cat[:,i]) for i,e in enumerate(self.embeds)]\n",
    "            x = torch.cat(x, 1)\n",
    "            x = self.emb_drop(x)\n",
    "        if self.n_cont != 0:\n",
    "            if self.bn_cont is not None: x_cont = self.bn_cont(x_cont)\n",
    "            x = torch.cat([x, x_cont], 1) if self.n_emb != 0 else x_cont\n",
    "        return self.layers(x)"
   ]
  },
  {
   "cell_type": "code",
   "execution_count": 71,
   "metadata": {},
   "outputs": [
    {
     "data": {
      "text/plain": [
       "{5}"
      ]
     },
     "execution_count": 71,
     "metadata": {},
     "output_type": "execute_result"
    }
   ],
   "source": [
    "nn.em\n"
   ]
  }
 ],
 "metadata": {
  "kernelspec": {
   "display_name": "Python 3",
   "language": "python",
   "name": "python3"
  },
  "language_info": {
   "codemirror_mode": {
    "name": "ipython",
    "version": 3
   },
   "file_extension": ".py",
   "mimetype": "text/x-python",
   "name": "python",
   "nbconvert_exporter": "python",
   "pygments_lexer": "ipython3",
   "version": "3.7.9"
  }
 },
 "nbformat": 4,
 "nbformat_minor": 4
}
